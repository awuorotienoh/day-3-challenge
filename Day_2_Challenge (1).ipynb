{
  "nbformat": 4,
  "nbformat_minor": 0,
  "metadata": {
    "colab": {
      "provenance": []
    },
    "kernelspec": {
      "name": "python3",
      "display_name": "Python 3"
    },
    "language_info": {
      "name": "python"
    }
  },
  "cells": [
    {
      "cell_type": "code",
      "execution_count": 1,
      "metadata": {
        "id": "2fGLCWolOlKa"
      },
      "outputs": [],
      "source": [
        "%load_ext sql"
      ]
    },
    {
      "cell_type": "code",
      "source": [
        "%sql sqlite:///abc_data.db"
      ],
      "metadata": {
        "id": "X62ee1kCEQ_1"
      },
      "execution_count": 2,
      "outputs": []
    },
    {
      "cell_type": "code",
      "source": [
        " %%sql CREATE TABLE students (\n",
        "            student_id integer PRIMARY KEY,\n",
        "            student_first_name varchar(100),\n",
        "            student_last_name varchar(100),\n",
        "            student_email varchar(100)\n",
        "         );\n"
      ],
      "metadata": {
        "colab": {
          "base_uri": "https://localhost:8080/"
        },
        "id": "vLTYfmn3EYrK",
        "outputId": "2e53b791-0c74-4bd3-b136-db21656165e9"
      },
      "execution_count": 3,
      "outputs": [
        {
          "output_type": "stream",
          "name": "stdout",
          "text": [
            " * sqlite:///abc_data.db\n",
            "Done.\n"
          ]
        },
        {
          "output_type": "execute_result",
          "data": {
            "text/plain": [
              "[]"
            ]
          },
          "metadata": {},
          "execution_count": 3
        }
      ]
    },
    {
      "cell_type": "code",
      "source": [
        "%%sql CREATE TABLE customers(\n",
        "    customer_id integer PRIMARY KEY,\n",
        "    first_name varchar (100),\n",
        "    last_name varchar (100),\n",
        "    email varchar (100)\n",
        "    );\n",
        ""
      ],
      "metadata": {
        "colab": {
          "base_uri": "https://localhost:8080/"
        },
        "id": "mgs0hsKxEfQ-",
        "outputId": "ca6b3e97-c2c2-46eb-e429-f4cf9610ada4"
      },
      "execution_count": 4,
      "outputs": [
        {
          "output_type": "stream",
          "name": "stdout",
          "text": [
            " * sqlite:///abc_data.db\n",
            "Done.\n"
          ]
        },
        {
          "output_type": "execute_result",
          "data": {
            "text/plain": [
              "[]"
            ]
          },
          "metadata": {},
          "execution_count": 4
        }
      ]
    },
    {
      "cell_type": "code",
      "source": [
        "%%sql INSERT INTO customers (customer_id, first_name, last_name, email) VALUES\n",
        "        (1, 'John', 'Doe', 'johndoe@email.com'),\n",
        "        (2, 'Jane', 'Smith', 'janesmith@email.com'),\n",
        "        (3, 'Bob', 'Johnson', 'bobjohnson@email.com'),\n",
        "        (4, 'Alice', 'Brown', 'alicebrown@email.com'),\n",
        "        (5, 'Charlie', 'Davis', 'charliedavis@email.com'),\n",
        "        (6, 'Eva', 'Fisher', 'evafisher@email.com'),\n",
        "        (7, 'George', 'Harris', 'georgeharris@email.com'),\n",
        "        (8, 'Ivy', 'Jones', 'ivyjones@email.com'),\n",
        "        (9, 'Kevin', 'Miller', 'kevinmiller@email.com'),\n",
        "        (10, 'Lily', 'Nelson', 'lilynelson@email.com'),\n",
        "        (11, 'Oliver', 'Patterson', 'oliverpatterson@email.com'),\n",
        "        (12, 'Quinn', 'Roberts', 'quinnroberts@email.com'),\n",
        "        (13, 'Sophia', 'Thomas', 'sophiathomas@email.com');"
      ],
      "metadata": {
        "colab": {
          "base_uri": "https://localhost:8080/"
        },
        "id": "5crchigKF3hN",
        "outputId": "e3e14020-2a84-4a55-a662-0435bd819505"
      },
      "execution_count": 5,
      "outputs": [
        {
          "output_type": "stream",
          "name": "stdout",
          "text": [
            " * sqlite:///abc_data.db\n",
            "13 rows affected.\n"
          ]
        },
        {
          "output_type": "execute_result",
          "data": {
            "text/plain": [
              "[]"
            ]
          },
          "metadata": {},
          "execution_count": 5
        }
      ]
    },
    {
      "cell_type": "code",
      "source": [
        "%%sql CREATE TABLE products(\n",
        "    product_id integer PRIMARY KEY,\n",
        "    product_name varchar (100),\n",
        "    price integer (100)\n",
        "    );"
      ],
      "metadata": {
        "colab": {
          "base_uri": "https://localhost:8080/"
        },
        "id": "ClW-pFtAGONs",
        "outputId": "3cca1c25-3454-44e4-e243-a8712011a860"
      },
      "execution_count": 6,
      "outputs": [
        {
          "output_type": "stream",
          "name": "stdout",
          "text": [
            " * sqlite:///abc_data.db\n",
            "Done.\n"
          ]
        },
        {
          "output_type": "execute_result",
          "data": {
            "text/plain": [
              "[]"
            ]
          },
          "metadata": {},
          "execution_count": 6
        }
      ]
    },
    {
      "cell_type": "code",
      "source": [
        "%%sql INSERT INTO products (product_id, product_name, price) VALUES\n",
        "        (1, 'Product A', 10.00),\n",
        "        (2, 'Product B', 15.00),\n",
        "        (3, 'Product C', 20.00),\n",
        "        (4, 'Product D', 25.00),\n",
        "        (5, 'Product E', 30.00),\n",
        "        (6, 'Product F', 35.00),\n",
        "        (7, 'Product G', 40.00),\n",
        "        (8, 'Product H', 45.00),\n",
        "        (9, 'Product I', 50.00),\n",
        "        (10, 'Product J', 55.00),\n",
        "        (11, 'Product K', 60.00),\n",
        "        (12, 'Product L', 65.00),\n",
        "        (13, 'Product M', 70.00);\n"
      ],
      "metadata": {
        "colab": {
          "base_uri": "https://localhost:8080/"
        },
        "id": "0JUBAArpGW0f",
        "outputId": "8b7decfe-720f-4e59-f663-35eb6fd06c6c"
      },
      "execution_count": 7,
      "outputs": [
        {
          "output_type": "stream",
          "name": "stdout",
          "text": [
            " * sqlite:///abc_data.db\n",
            "13 rows affected.\n"
          ]
        },
        {
          "output_type": "execute_result",
          "data": {
            "text/plain": [
              "[]"
            ]
          },
          "metadata": {},
          "execution_count": 7
        }
      ]
    },
    {
      "cell_type": "code",
      "source": [
        "%%sql CREATE TABLE orders(\n",
        "  order_id integer (100),\n",
        "  customer_id integer (100),\n",
        "  order_date integer (100)\n",
        ");\n"
      ],
      "metadata": {
        "colab": {
          "base_uri": "https://localhost:8080/"
        },
        "id": "J-KPnd5VG_gs",
        "outputId": "143e8ef9-0874-469d-8649-4b4d5be1506c"
      },
      "execution_count": 8,
      "outputs": [
        {
          "output_type": "stream",
          "name": "stdout",
          "text": [
            " * sqlite:///abc_data.db\n",
            "Done.\n"
          ]
        },
        {
          "output_type": "execute_result",
          "data": {
            "text/plain": [
              "[]"
            ]
          },
          "metadata": {},
          "execution_count": 8
        }
      ]
    },
    {
      "cell_type": "code",
      "source": [
        "%%sql INSERT INTO orders (order_id, customer_id, order_date) VALUES\n",
        "        (1, 1, '2023-05-01'),\n",
        "        (2, 2, '2023-05-02'),\n",
        "        (3, 3, '2023-05-03'),\n",
        "        (4, 1, '2023-05-04'),\n",
        "        (5, 2, '2023-05-05'),\n",
        "        (6, 3, '2023-05-06'),\n",
        "        (7, 4, '2023-05-07'),\n",
        "        (8, 5, '2023-05-08'),\n",
        "        (9, 6, '2023-05-09'),\n",
        "        (10, 7, '2023-05-10'),\n",
        "        (11, 8, '2023-05-11'),\n",
        "        (12, 9, '2023-05-12'),\n",
        "        (13, 10, '2023-05-13'),\n",
        "        (14, 11, '2023-05-14'),\n",
        "        (15, 12, '2023-05-15'),\n",
        "        (16, 13, '2023-05-16');"
      ],
      "metadata": {
        "colab": {
          "base_uri": "https://localhost:8080/"
        },
        "id": "Y_kW4yZAHIWK",
        "outputId": "60ee59d7-11fc-41bd-c3d6-bafb17aed600"
      },
      "execution_count": 9,
      "outputs": [
        {
          "output_type": "stream",
          "name": "stdout",
          "text": [
            " * sqlite:///abc_data.db\n",
            "16 rows affected.\n"
          ]
        },
        {
          "output_type": "execute_result",
          "data": {
            "text/plain": [
              "[]"
            ]
          },
          "metadata": {},
          "execution_count": 9
        }
      ]
    },
    {
      "cell_type": "code",
      "source": [
        "%%sql CREATE TABLE order_items(\n",
        "    order_id integerPRIMARY KEY,\n",
        "   product_id integer(30),\n",
        "    quantity integer(20)\n",
        ");"
      ],
      "metadata": {
        "colab": {
          "base_uri": "https://localhost:8080/"
        },
        "id": "1nc0m6YbH2O1",
        "outputId": "fe8a385a-35e0-499c-8195-3f0801cfa710"
      },
      "execution_count": 10,
      "outputs": [
        {
          "output_type": "stream",
          "name": "stdout",
          "text": [
            " * sqlite:///abc_data.db\n",
            "Done.\n"
          ]
        },
        {
          "output_type": "execute_result",
          "data": {
            "text/plain": [
              "[]"
            ]
          },
          "metadata": {},
          "execution_count": 10
        }
      ]
    },
    {
      "cell_type": "code",
      "source": [
        "%%sql INSERT INTO order_items (order_id, product_id, quantity) VALUES\n",
        "        (1, 1, 2),\n",
        "        (1, 2, 1),\n",
        "        (2, 2, 1),\n",
        "        (2, 3, 3),\n",
        "        (3, 1, 1),\n",
        "        (3, 3, 2),\n",
        "        (4, 2, 4),\n",
        "        (4, 3, 1),\n",
        "        (5, 1, 1),\n",
        "        (5, 3, 2),\n",
        "        (6, 2, 3),\n",
        "        (6, 1, 1),\n",
        "        (7, 4, 1),\n",
        "        (7, 5, 2),\n",
        "        (8, 6, 3),\n",
        "        (8, 7, 1),\n",
        "        (9, 8, 2),\n",
        "        (9, 9, 1),\n",
        "        (10, 10, 3),\n",
        "        (10, 11, 2),\n",
        "        (11, 12, 1),\n",
        "        (11, 13, 3),\n",
        "        (12, 4, 2),\n",
        "        (12, 5, 1),\n",
        "        (13, 6, 3),\n",
        "        (13, 7, 2),\n",
        "        (14, 8, 1),\n",
        "        (14, 9, 2),\n",
        "        (15, 10, 3),\n",
        "        (15, 11, 1),\n",
        "        (16, 12, 2),\n",
        "        (16, 13, 3);"
      ],
      "metadata": {
        "colab": {
          "base_uri": "https://localhost:8080/"
        },
        "id": "CUZMfCo4H7QV",
        "outputId": "7a304e0c-9dda-499e-9586-b8a9d48ed0d4"
      },
      "execution_count": 11,
      "outputs": [
        {
          "output_type": "stream",
          "name": "stdout",
          "text": [
            " * sqlite:///abc_data.db\n",
            "32 rows affected.\n"
          ]
        },
        {
          "output_type": "execute_result",
          "data": {
            "text/plain": [
              "[]"
            ]
          },
          "metadata": {},
          "execution_count": 11
        }
      ]
    },
    {
      "cell_type": "code",
      "source": [
        "%%sql SELECT MAX(price) AS highest_price\n",
        "FROM products;"
      ],
      "metadata": {
        "colab": {
          "base_uri": "https://localhost:8080/",
          "height": 98
        },
        "id": "QNBDuDs7QZBT",
        "outputId": "a2289bf7-4d21-42f7-a8f2-c3d04f417bf1"
      },
      "execution_count": 13,
      "outputs": [
        {
          "output_type": "stream",
          "name": "stdout",
          "text": [
            " * sqlite:///abc_data.db\n",
            "Done.\n"
          ]
        },
        {
          "output_type": "execute_result",
          "data": {
            "text/plain": [
              "[(70,)]"
            ],
            "text/html": [
              "<table>\n",
              "    <thead>\n",
              "        <tr>\n",
              "            <th>highest_price</th>\n",
              "        </tr>\n",
              "    </thead>\n",
              "    <tbody>\n",
              "        <tr>\n",
              "            <td>70</td>\n",
              "        </tr>\n",
              "    </tbody>\n",
              "</table>"
            ]
          },
          "metadata": {},
          "execution_count": 13
        }
      ]
    },
    {
      "cell_type": "markdown",
      "source": [
        "# New Section"
      ],
      "metadata": {
        "id": "OAoV65nHnz15"
      }
    }
  ]
}